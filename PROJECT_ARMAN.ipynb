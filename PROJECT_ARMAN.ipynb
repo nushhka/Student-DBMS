{
  "nbformat": 4,
  "nbformat_minor": 0,
  "metadata": {
    "colab": {
      "provenance": [],
      "include_colab_link": true
    },
    "kernelspec": {
      "name": "python3",
      "display_name": "Python 3"
    },
    "language_info": {
      "name": "python"
    }
  },
  "cells": [
    {
      "cell_type": "markdown",
      "metadata": {
        "id": "view-in-github",
        "colab_type": "text"
      },
      "source": [
        "<a href=\"https://colab.research.google.com/github/nushhka/Student-DBMS/blob/main/PROJECT_ARMAN.ipynb\" target=\"_parent\"><img src=\"https://colab.research.google.com/assets/colab-badge.svg\" alt=\"Open In Colab\"/></a>"
      ]
    },
    {
      "cell_type": "markdown",
      "source": [
        "## **IMPORTS**"
      ],
      "metadata": {
        "id": "fTPmGdbRQvil"
      }
    },
    {
      "cell_type": "code",
      "execution_count": 6,
      "metadata": {
        "id": "ADys7HyPQBZk"
      },
      "outputs": [],
      "source": [
        "import pandas as pd\n",
        "from sklearn.model_selection import train_test_split\n",
        "from sklearn.neighbors import NearestNeighbors\n",
        "import numpy as np\n",
        "from sklearn.svm import SVR\n",
        "from sklearn.preprocessing import StandardScaler\n",
        "from sklearn.pipeline import make_pipeline"
      ]
    },
    {
      "cell_type": "markdown",
      "source": [
        "1. Getting Data set\n",
        "2. Doing No Tag Imputation\n",
        "3. Dropping timestamp_y column\n",
        "4. Renaming timestamp_x column to timestamp colum\n",
        "5. Checking number of mising values"
      ],
      "metadata": {
        "id": "y7P457M3Q1M6"
      }
    },
    {
      "cell_type": "code",
      "source": [
        "\n",
        "# Replace 'url_to_csv' with the actual URL of your dataset\n",
        "url_to_csv = 'https://raw.githubusercontent.com/armangupta910/Movie-Recommendor-System/main/dataSet/complete_data%20-%20complete_data%20(1).csv.csv'\n",
        "data = pd.read_csv(url_to_csv)\n",
        "\n",
        "# Imputation: Replace NaN in 'tag' column with 'No Tag'\n",
        "data['tag'].fillna('No Tag', inplace=True)\n",
        "\n",
        "# Drop 'timestamp_y' column\n",
        "data.drop('timestamp_y', axis=1, inplace=True)\n",
        "\n",
        "#Rename 'timestamp_x' column to timestamp\n",
        "data.rename(columns={'timestamp_x': 'timestamp'}, inplace=True)\n",
        "\n",
        "# Display the number of missing values for each column\n",
        "missing_values = data.isnull().sum()\n",
        "print(missing_values)\n",
        "\n",
        "print(data.head())\n"
      ],
      "metadata": {
        "colab": {
          "base_uri": "https://localhost:8080/"
        },
        "id": "fdMSYsyoRH8a",
        "outputId": "64d17e92-6f79-4751-d852-a3cf37645078"
      },
      "execution_count": 7,
      "outputs": [
        {
          "output_type": "stream",
          "name": "stdout",
          "text": [
            "userId       0\n",
            "movieId      0\n",
            "rating       0\n",
            "timestamp    0\n",
            "title        0\n",
            "genres       0\n",
            "tag          0\n",
            "dtype: int64\n",
            "   userId  movieId  rating   timestamp             title  \\\n",
            "0       1        1     4.0   964982703  Toy Story (1995)   \n",
            "1       5        1     4.0   847434962  Toy Story (1995)   \n",
            "2       7        1     4.5  1106635946  Toy Story (1995)   \n",
            "3      15        1     2.5  1510577970  Toy Story (1995)   \n",
            "4      17        1     4.5  1305696483  Toy Story (1995)   \n",
            "\n",
            "                                        genres     tag  \n",
            "0  Adventure|Animation|Children|Comedy|Fantasy  No Tag  \n",
            "1  Adventure|Animation|Children|Comedy|Fantasy  No Tag  \n",
            "2  Adventure|Animation|Children|Comedy|Fantasy  No Tag  \n",
            "3  Adventure|Animation|Children|Comedy|Fantasy  No Tag  \n",
            "4  Adventure|Animation|Children|Comedy|Fantasy  No Tag  \n"
          ]
        }
      ]
    },
    {
      "cell_type": "markdown",
      "source": [
        "1. Changing timestamp colum to contain the actual Date and Time\n",
        "\n",
        "2. Generating\n",
        "\n",
        "*   Date of Month\n",
        "*   Day of Week\n",
        "*   Month\n",
        "*   Year\n",
        "*   Season\n",
        "\n",
        "using the Timestamp Column\n",
        "3. Encdoing the Seasons as\n",
        "\n",
        "\n",
        "*   Winter -> 1\n",
        "\n",
        "*   Spring -> 2\n",
        "*   Summer -> 3\n",
        "\n",
        "\n",
        "*   Fall -> 4\n",
        "\n"
      ],
      "metadata": {
        "id": "svHVvqGMSTp4"
      }
    },
    {
      "cell_type": "code",
      "source": [
        "\n",
        "# Convert 'timestamp' to datetime\n",
        "data['timestamp'] = pd.to_datetime(data['timestamp'], unit='s')\n",
        "\n",
        "# Extract date of month, day of month, month, and year\n",
        "data['date_of_month'] = data['timestamp'].dt.day\n",
        "data['day_of_week'] = data['timestamp'].dt.dayofweek  # Monday=0, Sunday=6\n",
        "data['month'] = data['timestamp'].dt.month\n",
        "data['year'] = data['timestamp'].dt.year\n",
        "\n",
        "# Define a function to determine the season based on the month\n",
        "def get_season(month):\n",
        "    if month in [12, 1, 2]:\n",
        "        return 'Winter'\n",
        "    elif month in [3, 4, 5]:\n",
        "        return 'Spring'\n",
        "    elif month in [6, 7, 8]:\n",
        "        return 'Summer'\n",
        "    else:\n",
        "        return 'Fall'\n",
        "\n",
        "# Apply the function to the 'month' column to create a new 'season' column\n",
        "data['season'] = data['month'].apply(get_season)\n",
        "\n",
        "\n",
        "\n",
        "# Season to number mapping\n",
        "season_to_number = {\n",
        "    'Winter': 1,\n",
        "    'Spring': 2,\n",
        "    'Summer': 3,\n",
        "    'Fall': 4\n",
        "}\n",
        "\n",
        "# Replace the season strings with their corresponding numbers\n",
        "data['season'] = data['season'].map(season_to_number)\n",
        "\n",
        "# Display the modified DataFrame to verify the changes\n",
        "print(data.head())\n",
        "\n"
      ],
      "metadata": {
        "colab": {
          "base_uri": "https://localhost:8080/"
        },
        "id": "OqQmJ59ASmWd",
        "outputId": "c52f28ef-fb2b-4bdb-896f-2f2d4064864a"
      },
      "execution_count": 8,
      "outputs": [
        {
          "output_type": "stream",
          "name": "stdout",
          "text": [
            "   userId  movieId  rating           timestamp             title  \\\n",
            "0       1        1     4.0 2000-07-30 18:45:03  Toy Story (1995)   \n",
            "1       5        1     4.0 1996-11-08 06:36:02  Toy Story (1995)   \n",
            "2       7        1     4.5 2005-01-25 06:52:26  Toy Story (1995)   \n",
            "3      15        1     2.5 2017-11-13 12:59:30  Toy Story (1995)   \n",
            "4      17        1     4.5 2011-05-18 05:28:03  Toy Story (1995)   \n",
            "\n",
            "                                        genres     tag  date_of_month  \\\n",
            "0  Adventure|Animation|Children|Comedy|Fantasy  No Tag             30   \n",
            "1  Adventure|Animation|Children|Comedy|Fantasy  No Tag              8   \n",
            "2  Adventure|Animation|Children|Comedy|Fantasy  No Tag             25   \n",
            "3  Adventure|Animation|Children|Comedy|Fantasy  No Tag             13   \n",
            "4  Adventure|Animation|Children|Comedy|Fantasy  No Tag             18   \n",
            "\n",
            "   day_of_week  month  year  season  \n",
            "0            6      7  2000       3  \n",
            "1            4     11  1996       4  \n",
            "2            1      1  2005       1  \n",
            "3            0     11  2017       4  \n",
            "4            2      5  2011       2  \n"
          ]
        }
      ]
    },
    {
      "cell_type": "markdown",
      "source": [
        "1. Cheking number of unique genres\n",
        "2. Encoding them as follows :-\n",
        "\n",
        "\n",
        "Action 1\n",
        "\n",
        "Adventure 2\n",
        "\n",
        "Animation 3\n",
        "\n",
        "Children 4\n",
        "\n",
        "Comedy 5\n",
        "\n",
        "Crime 6\n",
        "\n",
        "Documentary 7\n",
        "\n",
        "Drama 8\n",
        "\n",
        "Fantasy 9\n",
        "\n",
        "Film-Noir 10\n",
        "\n",
        "Horror 11\n",
        "\n",
        "IMAX 12\n",
        "\n",
        "Musical 13\n",
        "\n",
        "Mystery 14\n",
        "\n",
        "Romance 15\n",
        "\n",
        "Sci-Fi 16\n",
        "\n",
        "Thriller 17\n",
        "\n",
        "War 18\n",
        "\n",
        "Western 19\n",
        "\n",
        "\n"
      ],
      "metadata": {
        "id": "29aw8XZEToWz"
      }
    },
    {
      "cell_type": "code",
      "source": [
        "genres_split = data['genres'].str.split('|')\n",
        "\n",
        "# Flatten the list of lists to get a single list of genres\n",
        "all_genres = [genre for sublist in genres_split for genre in sublist]\n",
        "\n",
        "# Convert to a set to keep only unique genres, then back to a list if desired\n",
        "unique_genres = list(set(all_genres))\n",
        "\n",
        "# Sort the genres alphabetically, if needed\n",
        "unique_genres.sort()\n",
        "\n",
        "# Print the list of unique genres\n",
        "print(\"Number of unique Genres :- \",len(unique_genres))\n",
        "# for i in unique_genres:\n",
        "#   print(i)\n",
        "\n",
        "\n",
        "# Genre to number mapping as per your encoding\n",
        "genre_to_number = {\n",
        "    'Action': 1,\n",
        "    'Adventure': 2,\n",
        "    'Animation': 3,\n",
        "    'Children': 4,\n",
        "    'Comedy': 5,\n",
        "    'Crime': 6,\n",
        "    'Documentary': 7,\n",
        "    'Drama': 8,\n",
        "    'Fantasy': 9,\n",
        "    'Film-Noir': 10,\n",
        "    'Horror': 11,\n",
        "    'IMAX': 12,\n",
        "    'Musical': 13,\n",
        "    'Mystery': 14,\n",
        "    'Romance': 15,\n",
        "    'Sci-Fi': 16,\n",
        "    'Thriller': 17,\n",
        "    'War': 18,\n",
        "    'Western': 19,\n",
        "    'No Genres': 0  # Assuming 'No Genres' as 0\n",
        "}\n",
        "\n",
        "# Function to encode a genre string into its corresponding numbers separated by dashes\n",
        "def encode_genres(genre_string):\n",
        "    # Split the genre string by '|' and encode each genre using the genre_to_number mapping\n",
        "    encoded_genres = [str(genre_to_number.get(genre, 0)) for genre in genre_string.split('|')]\n",
        "    # Join the encoded genres with dashes\n",
        "    return '-'.join(encoded_genres)\n",
        "\n",
        "# Replace empty genre fields with 'No Genres'\n",
        "data['genres'] = data['genres'].replace('', 'No Genres')\n",
        "\n",
        "# Apply the encoding function to each genre string in the DataFrame\n",
        "data['genres'] = data['genres'].apply(encode_genres)\n",
        "\n",
        "# Display the modified DataFrame\n",
        "print(data.head())\n",
        "\n"
      ],
      "metadata": {
        "colab": {
          "base_uri": "https://localhost:8080/"
        },
        "id": "TreFnSGkTwIR",
        "outputId": "9ed0dde4-19da-4a7a-c91d-4f02d0fcb36e"
      },
      "execution_count": 9,
      "outputs": [
        {
          "output_type": "stream",
          "name": "stdout",
          "text": [
            "Number of unique Genres :-  20\n",
            "   userId  movieId  rating           timestamp             title     genres  \\\n",
            "0       1        1     4.0 2000-07-30 18:45:03  Toy Story (1995)  2-3-4-5-9   \n",
            "1       5        1     4.0 1996-11-08 06:36:02  Toy Story (1995)  2-3-4-5-9   \n",
            "2       7        1     4.5 2005-01-25 06:52:26  Toy Story (1995)  2-3-4-5-9   \n",
            "3      15        1     2.5 2017-11-13 12:59:30  Toy Story (1995)  2-3-4-5-9   \n",
            "4      17        1     4.5 2011-05-18 05:28:03  Toy Story (1995)  2-3-4-5-9   \n",
            "\n",
            "      tag  date_of_month  day_of_week  month  year  season  \n",
            "0  No Tag             30            6      7  2000       3  \n",
            "1  No Tag              8            4     11  1996       4  \n",
            "2  No Tag             25            1      1  2005       1  \n",
            "3  No Tag             13            0     11  2017       4  \n",
            "4  No Tag             18            2      5  2011       2  \n"
          ]
        }
      ]
    },
    {
      "cell_type": "markdown",
      "source": [
        "1. Checking unique number of Tags\n",
        "2. Encoding them"
      ],
      "metadata": {
        "id": "YBM_QbdMWVjD"
      }
    },
    {
      "cell_type": "code",
      "source": [
        "# Assuming the delimiter for tags is a comma ','; adjust as necessary\n",
        "# Split the 'tag' column into lists of tags\n",
        "tag_lists = data['tag'].dropna().str.split(',')\n",
        "\n",
        "# Flatten the list of lists to a single list containing all tags\n",
        "all_tags = [tag.strip() for sublist in tag_lists for tag in sublist]\n",
        "\n",
        "# Convert to a set to remove duplicates and count unique tags\n",
        "unique_tags = set(all_tags)\n",
        "\n",
        "# Number of unique tags\n",
        "num_unique_tags = len(unique_tags)\n",
        "\n",
        "print(f'Number of unique tags: {num_unique_tags}')\n",
        "\n",
        "# Assuming the 'tag' preprocessing has been done\n",
        "# And assuming tags are separated by a comma ',' in the 'tag' column\n",
        "\n",
        "# Generate a list of unique tags from the 'tag' column\n",
        "tag_lists = data['tag'].dropna().str.split(',')\n",
        "all_tags = [tag.strip() for sublist in tag_lists for tag in sublist]\n",
        "unique_tags = set(all_tags)\n",
        "\n",
        "# Create a mapping from tag to a unique number (starting from 1 for example)\n",
        "tag_to_number = {tag: i+1 for i, tag in enumerate(unique_tags)}\n",
        "\n",
        "# Function to encode tags in a row with their corresponding numbers\n",
        "def encode_tags(tag_string):\n",
        "    if pd.isnull(tag_string):\n",
        "        return None  # Return None or an appropriate value for missing tags\n",
        "    # Split the tag string by ',', map each tag to its number, join back with commas\n",
        "    return ','.join(str(tag_to_number[tag.strip()]) for tag in tag_string.split(','))\n",
        "\n",
        "# Apply the encoding function to the 'tag' column in place\n",
        "data['tag'] = data['tag'].apply(encode_tags)\n",
        "\n",
        "# Print the encoding scheme\n",
        "print(\"Tag to number encoding scheme:\")\n",
        "# for tag, number in tag_to_number.items():\n",
        "#     print(f\"{tag}: {number}\")\n",
        "\n",
        "\n",
        "# Optionally, show the head of the DataFrame to verify the changes\n",
        "print(data.head())\n",
        "\n",
        "\n"
      ],
      "metadata": {
        "colab": {
          "base_uri": "https://localhost:8080/"
        },
        "id": "FZs9VBi2WecN",
        "outputId": "29c8ff54-30b4-478e-f800-91062df448cc"
      },
      "execution_count": 10,
      "outputs": [
        {
          "output_type": "stream",
          "name": "stdout",
          "text": [
            "Number of unique tags: 1544\n",
            "Tag to number encoding scheme:\n",
            "   userId  movieId  rating           timestamp             title     genres  \\\n",
            "0       1        1     4.0 2000-07-30 18:45:03  Toy Story (1995)  2-3-4-5-9   \n",
            "1       5        1     4.0 1996-11-08 06:36:02  Toy Story (1995)  2-3-4-5-9   \n",
            "2       7        1     4.5 2005-01-25 06:52:26  Toy Story (1995)  2-3-4-5-9   \n",
            "3      15        1     2.5 2017-11-13 12:59:30  Toy Story (1995)  2-3-4-5-9   \n",
            "4      17        1     4.5 2011-05-18 05:28:03  Toy Story (1995)  2-3-4-5-9   \n",
            "\n",
            "    tag  date_of_month  day_of_week  month  year  season  \n",
            "0  1485             30            6      7  2000       3  \n",
            "1  1485              8            4     11  1996       4  \n",
            "2  1485             25            1      1  2005       1  \n",
            "3  1485             13            0     11  2017       4  \n",
            "4  1485             18            2      5  2011       2  \n"
          ]
        }
      ]
    },
    {
      "cell_type": "markdown",
      "source": [
        "## **Applying Linear Regression Model**"
      ],
      "metadata": {
        "id": "2EUzqlrTxq3a"
      }
    },
    {
      "cell_type": "code",
      "source": [
        "from sklearn.linear_model import LinearRegression\n",
        "\n",
        "# Drop 'title' and 'timestamp' columns from data\n",
        "df = data.drop(columns=['title', 'timestamp','genres','tag'], axis=1)\n",
        "\n",
        "# Assign 'rating' column to y\n",
        "y = df['rating']\n",
        "\n",
        "# Drop 'rating' column and assign remaining columns to X\n",
        "X = df.drop(columns=['rating'], axis=1)\n",
        "\n",
        "# # Split the dataset into a training set and a test set\n",
        "X_train, X_test, y_train, y_test = train_test_split(X, y, test_size=0.2)\n",
        "\n",
        "# Train the machine learning model\n",
        "model = LinearRegression()\n",
        "model.fit(X_train, y_train)\n",
        "\n",
        "# Evaluate the machine learning model\n",
        "score = model.score(X_test, y_test)\n",
        "print(\"The accuracy of the model is\", score)"
      ],
      "metadata": {
        "id": "nZfZCPo7xqgD",
        "outputId": "0b4c37cb-eda4-430a-87c1-f236f08a9f3e",
        "colab": {
          "base_uri": "https://localhost:8080/"
        }
      },
      "execution_count": 11,
      "outputs": [
        {
          "output_type": "stream",
          "name": "stdout",
          "text": [
            "The accuracy of the model is 0.0018013491125982162\n"
          ]
        }
      ]
    },
    {
      "cell_type": "code",
      "source": [
        "# MOVIE PREDICTION\n",
        "\n",
        "# Input user ID\n",
        "user_id = int(input(\"Enter user ID: \"))\n",
        "\n",
        "# Predict ratings for all movies for the given user\n",
        "user_ratings = model.predict(X_train.loc[X_train['userId'] == user_id])\n",
        "\n",
        "# Get the indices of top-rated movies\n",
        "top_movies_indices = user_ratings.argsort()[-10:][::-1]  # Recommending only the top 10 movies\n",
        "\n",
        "# Get the titles of top-rated movies\n",
        "top_movies_data = X_train.loc[X_train['userId'] == user_id].iloc[top_movies_indices]\n",
        "\n",
        "# Merge 'title' column back into the DataFrame and remove duplicates\n",
        "top_movies_data_with_title = pd.merge(top_movies_data.drop_duplicates(subset=['movieId']), data[['movieId', 'title']], on='movieId', how='left')\n",
        "\n",
        "# Ensure only top 10 unique movies are recommended\n",
        "top_movies_data_with_title = top_movies_data_with_title.drop_duplicates(subset=['title']).head(10)\n",
        "\n",
        "# Print the recommended movies\n",
        "print(\"The following movies are recommended for user\", user_id, \":\")\n",
        "print(top_movies_data_with_title[['title']])  # Display only 'title'"
      ],
      "metadata": {
        "id": "pv_QD52GyJho",
        "outputId": "e47b79a0-2ae0-4726-e744-b61175656614",
        "colab": {
          "base_uri": "https://localhost:8080/"
        }
      },
      "execution_count": 12,
      "outputs": [
        {
          "output_type": "stream",
          "name": "stdout",
          "text": [
            "Enter user ID: 5\n",
            "The following movies are recommended for user 5 :\n",
            "                                                  title\n",
            "0                                      Toy Story (1995)\n",
            "215                                   Get Shorty (1995)\n",
            "304                                         Babe (1995)\n",
            "433                             Dead Man Walking (1995)\n",
            "501                   Postman, The (Postino, Il) (1994)\n",
            "538                                    Apollo 13 (1995)\n",
            "741                               Batman Forever (1995)\n",
            "878         Eat Drink Man Woman (Yin shi nan nu) (1994)\n",
            "892   Interview with the Vampire: The Vampire Chroni...\n",
            "1001                                Little Women (1994)\n"
          ]
        }
      ]
    }
  ]
}